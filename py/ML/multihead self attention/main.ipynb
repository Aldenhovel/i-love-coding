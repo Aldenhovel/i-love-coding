{
 "cells": [
  {
   "cell_type": "markdown",
   "id": "f5c6583f-20b2-4f09-a173-90f18f495523",
   "metadata": {},
   "source": [
    "# Residual MultiHead self Attention Module\n",
    "## include class:\n",
    "- `PositionalEncoding`\n",
    "- `ResidualConnectionModule`\n",
    "- `Linear`\n",
    "- `RelativeMultiHeadAttention`\n",
    "- `MultiHeadedSelfAttentionModule`\n",
    "\n",
    "## Usage\n",
    "\n",
    "```\n",
    "module = ResidualConnectionModule(MultiHeadedSelfAttentionModule(d_model, num_heads, dropout_p))\n",
    "output = module(input)\n",
    "```\n",
    "\n",
    "--->PE-->LayerNorm-->Attention-->Dropout-->+-->\n",
    " \n",
    " "
   ]
  },
  {
   "cell_type": "markdown",
   "id": "b7588a79-ab00-4b6b-b188-459bd125ddc9",
   "metadata": {},
   "source": [
    "# Code"
   ]
  },
  {
   "cell_type": "code",
   "execution_count": 9,
   "id": "322ff496-44c8-4966-a86c-c116bf22bf2d",
   "metadata": {},
   "outputs": [],
   "source": [
    "import math\n",
    "import torch\n",
    "import torch.nn as nn\n",
    "from torch import Tensor\n",
    "import torch.nn.init as init\n",
    "import torch.nn.functional as F\n",
    "from typing import Optional\n",
    "\n",
    "class PositionalEncoding(nn.Module):\n",
    "    \"\"\"\n",
    "    Positional Encoding proposed in \"Attention Is All You Need\".\n",
    "    Since transformer contains no recurrence and no convolution, in order for the model to make\n",
    "    use of the order of the sequence, we must add some positional information.\n",
    "\n",
    "    \"Attention Is All You Need\" use sine and cosine functions of different frequencies:\n",
    "        PE_(pos, 2i)    =  sin(pos / power(10000, 2i / d_model))\n",
    "        PE_(pos, 2i+1)  =  cos(pos / power(10000, 2i / d_model))\n",
    "    \"\"\"\n",
    "    def __init__(self, d_model: int = 512, max_len: int = 10000) -> None:\n",
    "        super(PositionalEncoding, self).__init__()\n",
    "        pe = torch.zeros(max_len, d_model, requires_grad=False)\n",
    "        position = torch.arange(0, max_len, dtype=torch.float).unsqueeze(1)\n",
    "        div_term = torch.exp(torch.arange(0, d_model, 2).float() * -(math.log(10000.0) / d_model))\n",
    "        pe[:, 0::2] = torch.sin(position * div_term)\n",
    "        pe[:, 1::2] = torch.cos(position * div_term)\n",
    "        pe = pe.unsqueeze(0)\n",
    "        self.register_buffer('pe', pe)\n",
    "\n",
    "    def forward(self, length: int) -> Tensor:\n",
    "        return self.pe[:, :length]"
   ]
  },
  {
   "cell_type": "code",
   "execution_count": 10,
   "id": "9026c09c-7fa4-4c62-9145-7d7b24138ece",
   "metadata": {},
   "outputs": [],
   "source": [
    "class ResidualConnectionModule(nn.Module):\n",
    "    \"\"\"\n",
    "    Residual Connection Module.\n",
    "    outputs = (module(inputs) x module_factor + inputs x input_factor)\n",
    "    \"\"\"\n",
    "    def __init__(self, module: nn.Module, module_factor: float = 1.0, input_factor: float = 1.0):\n",
    "        super(ResidualConnectionModule, self).__init__()\n",
    "        self.module = module\n",
    "        self.module_factor = module_factor\n",
    "        self.input_factor = input_factor\n",
    "\n",
    "    def forward(self, inputs: Tensor) -> Tensor:\n",
    "        return (self.module(inputs) * self.module_factor) + (inputs * self.input_factor)\n",
    "\n",
    "\n",
    "class Linear(nn.Module):\n",
    "    \"\"\"\n",
    "    Wrapper class of torch.nn.Linear\n",
    "    Weight initialize by xavier initialization and bias initialize to zeros.\n",
    "    \"\"\"\n",
    "    def __init__(self, in_features: int, out_features: int, bias: bool = True) -> None:\n",
    "        super(Linear, self).__init__()\n",
    "        self.linear = nn.Linear(in_features, out_features, bias=bias)\n",
    "        init.xavier_uniform_(self.linear.weight)\n",
    "        if bias:\n",
    "            init.zeros_(self.linear.bias)\n",
    "\n",
    "    def forward(self, x: Tensor) -> Tensor:\n",
    "        return self.linear(x)"
   ]
  },
  {
   "cell_type": "code",
   "execution_count": 11,
   "id": "95e0417d-6bdb-48d3-a926-3e1781d76367",
   "metadata": {},
   "outputs": [],
   "source": [
    "class RelativeMultiHeadAttention(nn.Module):\n",
    "    \"\"\"\n",
    "    Multi-head attention with relative positional encoding.\n",
    "    This concept was proposed in the \"Transformer-XL: Attentive Language Models Beyond a Fixed-Length Context\"\n",
    "\n",
    "    Args:\n",
    "        d_model (int): The dimension of model\n",
    "        num_heads (int): The number of attention heads.\n",
    "        dropout_p (float): probability of dropout\n",
    "\n",
    "    Inputs: query, key, value, pos_embedding, mask\n",
    "        - **query** (batch, seqlen, dim): Tensor containing query vector\n",
    "        - **key** (batch, seqlen, dim): Tensor containing key vector\n",
    "        - **value** (batch, seqlen, dim): Tensor containing value vector\n",
    "        - **pos_embedding** (batch, seqlen, dim): Positional embedding tensor\n",
    "        - **mask** (batch, 1, time2) or (batch, time1, time2): Tensor containing indices to be masked\n",
    "\n",
    "    Returns:\n",
    "        - **outputs**: Tensor produces by relative multi head attention module.\n",
    "    \"\"\"\n",
    "    def __init__(\n",
    "            self,\n",
    "            d_model: int = 512,\n",
    "            num_heads: int = 16,\n",
    "            dropout_p: float = 0.1,\n",
    "    ):\n",
    "        super(RelativeMultiHeadAttention, self).__init__()\n",
    "        assert d_model % num_heads == 0, \"d_model % num_heads should be zero.\"\n",
    "        self.d_model = d_model\n",
    "        self.d_head = int(d_model / num_heads)\n",
    "        self.num_heads = num_heads\n",
    "        self.sqrt_dim = math.sqrt(d_model)\n",
    "\n",
    "        self.query_proj = Linear(d_model, d_model)\n",
    "        self.key_proj = Linear(d_model, d_model)\n",
    "        self.value_proj = Linear(d_model, d_model)\n",
    "        self.pos_proj = Linear(d_model, d_model, bias=False)\n",
    "\n",
    "        self.dropout = nn.Dropout(p=dropout_p)\n",
    "        self.u_bias = nn.Parameter(torch.Tensor(self.num_heads, self.d_head))\n",
    "        self.v_bias = nn.Parameter(torch.Tensor(self.num_heads, self.d_head))\n",
    "        torch.nn.init.xavier_uniform_(self.u_bias)\n",
    "        torch.nn.init.xavier_uniform_(self.v_bias)\n",
    "\n",
    "        self.out_proj = Linear(d_model, d_model)\n",
    "\n",
    "    def forward(\n",
    "            self,\n",
    "            query: Tensor,\n",
    "            key: Tensor,\n",
    "            value: Tensor,\n",
    "            pos_embedding: Tensor,\n",
    "            mask: Optional[Tensor] = None,\n",
    "    ) -> Tensor:\n",
    "        batch_size = value.size(0)\n",
    "\n",
    "        query = self.query_proj(query).view(batch_size, -1, self.num_heads, self.d_head)\n",
    "        key = self.key_proj(key).view(batch_size, -1, self.num_heads, self.d_head).permute(0, 2, 1, 3)\n",
    "        value = self.value_proj(value).view(batch_size, -1, self.num_heads, self.d_head).permute(0, 2, 1, 3)\n",
    "        pos_embedding = self.pos_proj(pos_embedding).view(batch_size, -1, self.num_heads, self.d_head)\n",
    "\n",
    "        content_score = torch.matmul((query + self.u_bias).transpose(1, 2), key.transpose(2, 3))\n",
    "        pos_score = torch.matmul((query + self.v_bias).transpose(1, 2), pos_embedding.permute(0, 2, 3, 1))\n",
    "        pos_score = self._relative_shift(pos_score)\n",
    "\n",
    "        score = (content_score + pos_score) / self.sqrt_dim\n",
    "\n",
    "        if mask is not None:\n",
    "            mask = mask.unsqueeze(1)\n",
    "            score.masked_fill_(mask, -1e9)\n",
    "\n",
    "        attn = F.softmax(score, -1)\n",
    "        attn = self.dropout(attn)\n",
    "\n",
    "        context = torch.matmul(attn, value).transpose(1, 2)\n",
    "        context = context.contiguous().view(batch_size, -1, self.d_model)\n",
    "\n",
    "        return self.out_proj(context)\n",
    "\n",
    "    def _relative_shift(self, pos_score: Tensor) -> Tensor:\n",
    "        batch_size, num_heads, seq_length1, seq_length2 = pos_score.size()\n",
    "        zeros = pos_score.new_zeros(batch_size, num_heads, seq_length1, 1)\n",
    "        padded_pos_score = torch.cat([zeros, pos_score], dim=-1)\n",
    "\n",
    "        padded_pos_score = padded_pos_score.view(batch_size, num_heads, seq_length2 + 1, seq_length1)\n",
    "        pos_score = padded_pos_score[:, :, 1:].view_as(pos_score)\n",
    "\n",
    "        return pos_score\n",
    "\n",
    "\n",
    "class MultiHeadedSelfAttentionModule(nn.Module):\n",
    "    \"\"\"\n",
    "    Args:\n",
    "        d_model (int): The dimension of model\n",
    "        num_heads (int): The number of attention heads.\n",
    "        dropout_p (float): probability of dropout\n",
    "\n",
    "    Inputs: inputs, mask\n",
    "        - **inputs** (batch, seqlen, dim): Tensor containing input vector\n",
    "        - **mask** (batch, 1, time2) or (batch, time1, time2): Tensor containing indices to be masked\n",
    "\n",
    "    Returns:\n",
    "        - **outputs** (batch, seqlen, dim): Tensor produces by relative multi headed self attention module.\n",
    "    \"\"\"\n",
    "    def __init__(self, d_model: int, num_heads: int, dropout_p: float = 0.1):\n",
    "        super(MultiHeadedSelfAttentionModule, self).__init__()\n",
    "        self.positional_encoding = PositionalEncoding(d_model)\n",
    "        self.layer_norm = nn.LayerNorm(d_model)\n",
    "        self.attention = RelativeMultiHeadAttention(d_model, num_heads, dropout_p)\n",
    "        self.dropout = nn.Dropout(p=dropout_p)\n",
    "\n",
    "    def forward(self, inputs: Tensor, mask: Optional[Tensor] = None):\n",
    "        batch_size, seq_length, _ = inputs.size()\n",
    "        pos_embedding = self.positional_encoding(seq_length)\n",
    "        pos_embedding = pos_embedding.repeat(batch_size, 1, 1)\n",
    "\n",
    "        inputs = self.layer_norm(inputs)\n",
    "        outputs = self.attention(inputs, inputs, inputs, pos_embedding=pos_embedding, mask=mask)\n",
    "\n",
    "        return self.dropout(outputs)\n"
   ]
  },
  {
   "cell_type": "markdown",
   "id": "69ad9884-df6b-45aa-bdfa-6c798f7cb31f",
   "metadata": {},
   "source": [
    "# Demo"
   ]
  },
  {
   "cell_type": "code",
   "execution_count": 12,
   "id": "906024b2-b7e8-478e-bc1b-322219b7b882",
   "metadata": {},
   "outputs": [],
   "source": [
    "module = ResidualConnectionModule(MultiHeadedSelfAttentionModule(d_model=512, num_heads=8, dropout_p=0.1))"
   ]
  },
  {
   "cell_type": "code",
   "execution_count": 13,
   "id": "77dd4dd8-8de6-4069-aa82-91a66e36e856",
   "metadata": {},
   "outputs": [
    {
     "data": {
      "text/plain": [
       "torch.Size([16, 25, 512])"
      ]
     },
     "execution_count": 13,
     "metadata": {},
     "output_type": "execute_result"
    }
   ],
   "source": [
    "x = torch.rand(16, 25, 512)\n",
    "x.size()"
   ]
  },
  {
   "cell_type": "code",
   "execution_count": 14,
   "id": "331b4168-6da4-4ef6-a26e-015c59da7e18",
   "metadata": {},
   "outputs": [
    {
     "data": {
      "text/plain": [
       "torch.Size([16, 25, 512])"
      ]
     },
     "execution_count": 14,
     "metadata": {},
     "output_type": "execute_result"
    }
   ],
   "source": [
    "module(x).size()"
   ]
  },
  {
   "cell_type": "code",
   "execution_count": null,
   "id": "2149bfb2-e978-43ff-906f-c9a7cbf0d200",
   "metadata": {},
   "outputs": [],
   "source": []
  }
 ],
 "metadata": {
  "kernelspec": {
   "display_name": "Python 3 (ipykernel)",
   "language": "python",
   "name": "python3"
  },
  "language_info": {
   "codemirror_mode": {
    "name": "ipython",
    "version": 3
   },
   "file_extension": ".py",
   "mimetype": "text/x-python",
   "name": "python",
   "nbconvert_exporter": "python",
   "pygments_lexer": "ipython3",
   "version": "3.7.5"
  }
 },
 "nbformat": 4,
 "nbformat_minor": 5
}
