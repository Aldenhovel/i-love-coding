{
 "cells": [
  {
   "cell_type": "code",
   "execution_count": 1,
   "id": "1d593377-485a-4d3e-a22e-0e0488237250",
   "metadata": {},
   "outputs": [],
   "source": [
    "import tqdm"
   ]
  },
  {
   "cell_type": "markdown",
   "id": "70541fdb-6b01-4a9b-8463-1a2cf95922e7",
   "metadata": {},
   "source": [
    "## tqdm.tqdm"
   ]
  },
  {
   "cell_type": "markdown",
   "id": "736aaaaa-461e-4a4b-a4e6-018e777473fd",
   "metadata": {},
   "source": [
    "- 新建进度条，使用 update() 更新进度条："
   ]
  },
  {
   "cell_type": "code",
   "execution_count": 2,
   "id": "be3c53df-ec8c-4f5d-869c-b7c8d27290e3",
   "metadata": {},
   "outputs": [
    {
     "name": "stderr",
     "output_type": "stream",
     "text": [
      "100%|████████████████████████████████████████████████████████████████████████████████| 100/100 [00:20<00:00,  4.89it/s]\n"
     ]
    }
   ],
   "source": [
    "import time\n",
    "pbar = tqdm.tqdm(total=100)\n",
    "for i in range(100):\n",
    "    pbar.update(1)\n",
    "    time.sleep(0.2)\n",
    "pbar.close()"
   ]
  },
  {
   "cell_type": "markdown",
   "id": "4c08c4d1-7a38-4eb8-bb15-760f26f36e1c",
   "metadata": {},
   "source": [
    "- 将 tqdm 与 enumerate 结合，可以在迭代处理时加上进度条："
   ]
  },
  {
   "cell_type": "code",
   "execution_count": 3,
   "id": "6d96e1db-f606-483c-bfb7-fd6d70409946",
   "metadata": {},
   "outputs": [
    {
     "name": "stderr",
     "output_type": "stream",
     "text": [
      "100%|████████████████████████████████████████████████████████████████████████████████████| 5/5 [00:01<00:00,  4.85it/s]\n"
     ]
    },
    {
     "data": {
      "text/plain": [
       "'hello'"
      ]
     },
     "execution_count": 3,
     "metadata": {},
     "output_type": "execute_result"
    }
   ],
   "source": [
    "string = \"\"\n",
    "for i, char in enumerate(tqdm.tqdm(['h', 'e', 'l', 'l', 'o'])):\n",
    "    string += char\n",
    "    time.sleep(0.2)\n",
    "string"
   ]
  },
  {
   "cell_type": "markdown",
   "id": "b114a92c-2ce6-46b9-956b-03e129547571",
   "metadata": {},
   "source": [
    "## tqdm.trange"
   ]
  },
  {
   "cell_type": "markdown",
   "id": "791736e1-cb06-47d4-87bf-64d9cbb4a2aa",
   "metadata": {},
   "source": [
    "- `tqdm.trange(N)` 与 `tqdm.tqdm(range(N))` 相似，相当于精简版："
   ]
  },
  {
   "cell_type": "code",
   "execution_count": 4,
   "id": "fcb06189-506c-46d6-865f-d0615b600e6e",
   "metadata": {},
   "outputs": [
    {
     "name": "stderr",
     "output_type": "stream",
     "text": [
      "100%|████████████████████████████████████████████████████████████████████████████████| 100/100 [00:20<00:00,  4.88it/s]\n"
     ]
    }
   ],
   "source": [
    "pbar = tqdm.trange(100)\n",
    "for i in range(100):\n",
    "    pbar.update(1)\n",
    "    time.sleep(0.2)\n",
    "pbar.close()"
   ]
  },
  {
   "cell_type": "markdown",
   "id": "e39ca8c0-b0a4-4882-9fd5-e912c488b892",
   "metadata": {},
   "source": [
    "- trange 两个参数可以指定序列起始结束位置："
   ]
  },
  {
   "cell_type": "code",
   "execution_count": 5,
   "id": "b83f11ae-0972-4f80-8795-c00dae70fc6d",
   "metadata": {},
   "outputs": [
    {
     "name": "stderr",
     "output_type": "stream",
     "text": [
      "100%|██████████████████████████████████████████████████████████████████████████████████| 20/20 [00:04<00:00,  4.87it/s]\n"
     ]
    }
   ],
   "source": [
    "for i in tqdm.trange(80, 100):\n",
    "    time.sleep(0.2)"
   ]
  },
  {
   "cell_type": "markdown",
   "id": "f84002a2-cf1c-4678-b8cd-252f0f8f12f6",
   "metadata": {},
   "source": [
    "## tqdm.notebook"
   ]
  },
  {
   "cell_type": "markdown",
   "id": "043b6cf2-abf1-405f-826c-73d9a153425a",
   "metadata": {},
   "source": [
    "- `tqdm.notebook` 下的 `tqdm` , `trange` 模块是针对 IPython / Jupyter notebook 设计的："
   ]
  },
  {
   "cell_type": "code",
   "execution_count": 6,
   "id": "035b273b-77a4-4988-a5aa-bf426553bec1",
   "metadata": {},
   "outputs": [],
   "source": [
    "from tqdm.notebook import tqdm as notebook_tqdm\n",
    "from tqdm.notebook import trange as notebook_trange"
   ]
  },
  {
   "cell_type": "code",
   "execution_count": 7,
   "id": "671a1bbe-408a-467f-9bf2-21fcf803194f",
   "metadata": {},
   "outputs": [
    {
     "data": {
      "application/vnd.jupyter.widget-view+json": {
       "model_id": "eb1fe42aebe54eef94b0b87cfd6f664e",
       "version_major": 2,
       "version_minor": 0
      },
      "text/plain": [
       "HBox(children=(FloatProgress(value=0.0, layout=Layout(flex='2')), HTML(value='')), layout=Layout(display='inli…"
      ]
     },
     "metadata": {},
     "output_type": "display_data"
    }
   ],
   "source": [
    "pbar = notebook_tqdm(total=100, ncols=500)\n",
    "for i in range(100):\n",
    "    pbar.update(1)\n",
    "    time.sleep(0.2)"
   ]
  },
  {
   "cell_type": "code",
   "execution_count": 8,
   "id": "15c4dcb0-96c5-4edc-bdfe-69c60ed69569",
   "metadata": {},
   "outputs": [
    {
     "data": {
      "application/vnd.jupyter.widget-view+json": {
       "model_id": "75a62ee3f8d64ff29aee6e14560e99d3",
       "version_major": 2,
       "version_minor": 0
      },
      "text/plain": [
       "HBox(children=(FloatProgress(value=0.0, layout=Layout(flex='2')), HTML(value='')), layout=Layout(display='inli…"
      ]
     },
     "metadata": {},
     "output_type": "display_data"
    },
    {
     "name": "stdout",
     "output_type": "stream",
     "text": [
      "\n"
     ]
    }
   ],
   "source": [
    "for i in notebook_trange(100, ncols=500):\n",
    "    time.sleep(0.2)"
   ]
  },
  {
   "cell_type": "markdown",
   "id": "d76bb8af-eeb6-4cc7-932e-4a0d320c5658",
   "metadata": {},
   "source": [
    "## 特定操作\n",
    "- 包括指定进度条长度、显示提示信息等"
   ]
  },
  {
   "cell_type": "code",
   "execution_count": 11,
   "id": "2488845a-915c-467f-bf85-a6155173555b",
   "metadata": {},
   "outputs": [
    {
     "data": {
      "application/vnd.jupyter.widget-view+json": {
       "model_id": "485938e264fe4c85b6219cd40b66a961",
       "version_major": 2,
       "version_minor": 0
      },
      "text/plain": [
       "HBox(children=(FloatProgress(value=0.0, layout=Layout(flex='2')), HTML(value='')), layout=Layout(display='inli…"
      ]
     },
     "metadata": {},
     "output_type": "display_data"
    },
    {
     "name": "stdout",
     "output_type": "stream",
     "text": [
      "\n"
     ]
    }
   ],
   "source": [
    "pbar = notebook_tqdm(total=100, ncols=800)\n",
    "\n",
    "for i in range(100):\n",
    "    \n",
    "    pbar.set_description_str(\"Hello im working\")\n",
    "    \n",
    "    pbar.set_postfix_str(f\"Now index is {i}\")\n",
    "    \n",
    "    pbar.update(1)\n",
    "    time.sleep(0.2)\n",
    "pbar.close()\n",
    "\n",
    "\n"
   ]
  },
  {
   "cell_type": "code",
   "execution_count": null,
   "id": "3b7ffbe5-06ff-4334-a838-83598fe070ef",
   "metadata": {},
   "outputs": [],
   "source": []
  }
 ],
 "metadata": {
  "kernelspec": {
   "display_name": "Python 3 (ipykernel)",
   "language": "python",
   "name": "python3"
  },
  "language_info": {
   "codemirror_mode": {
    "name": "ipython",
    "version": 3
   },
   "file_extension": ".py",
   "mimetype": "text/x-python",
   "name": "python",
   "nbconvert_exporter": "python",
   "pygments_lexer": "ipython3",
   "version": "3.9.13"
  }
 },
 "nbformat": 4,
 "nbformat_minor": 5
}
